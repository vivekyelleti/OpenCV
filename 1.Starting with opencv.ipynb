{
 "cells": [
  {
   "cell_type": "code",
   "execution_count": 30,
   "id": "759acfac-da23-4736-b0a0-c5f589547217",
   "metadata": {},
   "outputs": [],
   "source": [
    "import cv2\n",
    "import matplotlib.pyplot as plt"
   ]
  },
  {
   "cell_type": "code",
   "execution_count": 31,
   "id": "a8f3d7cd",
   "metadata": {},
   "outputs": [],
   "source": [
    "# !pip uninstall opencv-python\n",
    "# !pip install opencv-python-headless"
   ]
  },
  {
   "cell_type": "code",
   "execution_count": null,
   "id": "93c47e26",
   "metadata": {},
   "outputs": [],
   "source": []
  },
  {
   "cell_type": "code",
   "execution_count": 32,
   "id": "b7ae5cfb-8ebf-4300-a723-995c13dbca33",
   "metadata": {},
   "outputs": [],
   "source": [
    "img=cv2.imread(\"./logo.png\")"
   ]
  },
  {
   "cell_type": "code",
   "execution_count": 33,
   "id": "3c090f9d-4a81-41f0-809a-7d08dee91ad0",
   "metadata": {},
   "outputs": [
    {
     "name": "stdout",
     "output_type": "stream",
     "text": [
      "(99, 82, 3)\n"
     ]
    }
   ],
   "source": [
    "dim=img.shape\n",
    "\n",
    "print(dim)"
   ]
  },
  {
   "cell_type": "code",
   "execution_count": 34,
   "id": "a09cee3a-89a2-4dbe-b4d9-cd5a7f08d827",
   "metadata": {},
   "outputs": [],
   "source": [
    "gray_img=cv2.imread(\"logo.png\",cv2.IMREAD_GRAYSCALE)"
   ]
  },
  {
   "cell_type": "code",
   "execution_count": 35,
   "id": "312c8995-b860-4ad0-9620-7b2640c728f1",
   "metadata": {},
   "outputs": [
    {
     "name": "stdout",
     "output_type": "stream",
     "text": [
      "(99, 82)\n"
     ]
    }
   ],
   "source": [
    "dim=gray_img.shape\n",
    "\n",
    "print(dim)"
   ]
  },
  {
   "cell_type": "markdown",
   "id": "9ed4fc16-db68-4492-8cc0-92fff02854c1",
   "metadata": {},
   "source": [
    "### Reading a video and storing in a reverse way"
   ]
  },
  {
   "cell_type": "code",
   "execution_count": 36,
   "id": "6e3bcb1f-5734-45f4-9e6f-20df3c659f7c",
   "metadata": {},
   "outputs": [],
   "source": [
    "import cv2\n",
    "import argparse\n"
   ]
  },
  {
   "cell_type": "code",
   "execution_count": 37,
   "id": "a3cd1bec-04b2-49d2-895f-6f4760488dee",
   "metadata": {},
   "outputs": [],
   "source": [
    "def decode_fourcc(fourcc):\n",
    "    fourcc_int=int(fourcc)\n",
    "\n",
    "    fourcc_decode=\"\"\n",
    "    for i in range(4):\n",
    "        int_v=fourcc_int >> 8 * i & 0xFF\n",
    "        fourcc_decode +=chr(int_v)\n",
    "\n",
    "    return fourcc_decode"
   ]
  },
  {
   "cell_type": "markdown",
   "id": "18c2a36b-93e7-437a-98b7-6c06f0d228c0",
   "metadata": {},
   "source": [
    "## to give command line arguments"
   ]
  },
  {
   "cell_type": "code",
   "execution_count": 38,
   "id": "6db31904-dbd1-4d0a-be9f-b13e2b47a261",
   "metadata": {},
   "outputs": [
    {
     "name": "stderr",
     "output_type": "stream",
     "text": [
      "usage: ipykernel_launcher.py [-h] video_path output_path\n",
      "ipykernel_launcher.py: error: the following arguments are required: output_path\n"
     ]
    },
    {
     "ename": "SystemExit",
     "evalue": "2",
     "output_type": "error",
     "traceback": [
      "An exception has occurred, use %tb to see the full traceback.\n",
      "\u001b[1;31mSystemExit\u001b[0m\u001b[1;31m:\u001b[0m 2\n"
     ]
    },
    {
     "name": "stderr",
     "output_type": "stream",
     "text": [
      "C:\\Users\\vivek\\anaconda3\\lib\\site-packages\\IPython\\core\\interactiveshell.py:3452: UserWarning: To exit: use 'exit', 'quit', or Ctrl-D.\n",
      "  warn(\"To exit: use 'exit', 'quit', or Ctrl-D.\", stacklevel=1)\n"
     ]
    }
   ],
   "source": [
    "parser=argparse.ArgumentParser()\n",
    "\n",
    "parser.add_argument(\"video_path\",help=\"Countdown8.mp4\")\n",
    "\n",
    "parser.add_argument(\"output_path\",help=\"ReverseCountdown8.mp4\")\n",
    "\n",
    "args=parser.parse_args()"
   ]
  },
  {
   "cell_type": "code",
   "execution_count": 39,
   "id": "ec8b0448-9c67-45ae-84b3-fac91d117316",
   "metadata": {},
   "outputs": [
    {
     "name": "stdout",
     "output_type": "stream",
     "text": [
      "codec: 'h264'\n"
     ]
    }
   ],
   "source": [
    "capture=cv2.VideoCapture(\"./Countdown8.mp4\")\n",
    "\n",
    "frame_width=capture.get(cv2.CAP_PROP_FRAME_WIDTH)\n",
    "frame_height = capture.get(cv2.CAP_PROP_FRAME_HEIGHT)\n",
    "fps = capture.get(cv2.CAP_PROP_FPS)\n",
    "codec = decode_fourcc(capture.get(cv2.CAP_PROP_FOURCC))\n",
    "print(\"codec: '{}'\".format(codec))"
   ]
  },
  {
   "cell_type": "code",
   "execution_count": 46,
   "id": "a6fcb3c8-c823-45fe-86c1-f511042aedf6",
   "metadata": {},
   "outputs": [],
   "source": [
    "fourcc = cv2.VideoWriter_fourcc(*'mp4v')\n",
    "\n",
    "# Create VideoWriter object. We use the same properties as the input camera.\n",
    "# Last argument is False to write the video in grayscale. True otherwise (write the video in color)\n",
    "out = cv2.VideoWriter(\"./ReverseVideo.mp4\", fourcc, int(fps), (int(frame_width), int(frame_height)), True)\n",
    "\n",
    "# Check if camera opened successfully\n",
    "if capture.isOpened() is False:\n",
    "    print(\"Error opening video stream or file\")"
   ]
  },
  {
   "cell_type": "code",
   "execution_count": 47,
   "id": "bbe3ebe2-1f7b-4963-9902-4192634e6d88",
   "metadata": {},
   "outputs": [
    {
     "name": "stdout",
     "output_type": "stream",
     "text": [
      "329.0\n"
     ]
    }
   ],
   "source": [
    "frame_index = capture.get(cv2.CAP_PROP_FRAME_COUNT) - 1\n",
    "print(frame_index)"
   ]
  },
  {
   "cell_type": "code",
   "execution_count": 48,
   "id": "6b25d762-47cd-418c-8386-1925169b91c5",
   "metadata": {},
   "outputs": [],
   "source": [
    "capture.set(cv2.CAP_PROP_POS_FRAMES, frame_index)\n",
    "ret, frame = capture.read()"
   ]
  },
  {
   "cell_type": "code",
   "execution_count": 49,
   "id": "b8d7a6b0-d4cd-4091-8000-12afa4fdcc6b",
   "metadata": {},
   "outputs": [],
   "source": [
    "# ret, frame = capture.read()\n",
    "# if ret is True:\n",
    "#     cv2.imshow('Original Frame', frame)"
   ]
  },
  {
   "cell_type": "code",
   "execution_count": 50,
   "id": "2e066ea9",
   "metadata": {},
   "outputs": [
    {
     "name": "stdout",
     "output_type": "stream",
     "text": [
      "329.0\n",
      "True\n"
     ]
    },
    {
     "data": {
      "text/plain": [
       "<matplotlib.image.AxesImage at 0x1ad04e6ba30>"
      ]
     },
     "execution_count": 50,
     "metadata": {},
     "output_type": "execute_result"
    },
    {
     "data": {
      "image/png": "[encoded data removed]",
      "text/plain": [
       "<Figure size 432x288 with 1 Axes>"
      ]
     },
     "metadata": {
      "needs_background": "light"
     },
     "output_type": "display_data"
    }
   ],
   "source": [
    "print(frame_index)\n",
    "\n",
    "capture.set(cv2.CAP_PROP_POS_FRAMES, frame_index)\n",
    "ret, frame = capture.read()\n",
    "print(ret)\n",
    "plt.imshow(frame)"
   ]
  },
  {
   "cell_type": "code",
   "execution_count": 51,
   "id": "c8ebf381-e191-425a-8203-2d2df1d8dfa9",
   "metadata": {
    "scrolled": true
   },
   "outputs": [
    {
     "ename": "error",
     "evalue": "OpenCV(4.10.0) D:\\a\\opencv-python\\opencv-python\\opencv\\modules\\highgui\\src\\window.cpp:1295: error: (-2:Unspecified error) The function is not implemented. Rebuild the library with Windows, GTK+ 2.x or Cocoa support. If you are on Ubuntu or Debian, install libgtk2.0-dev and pkg-config, then re-run cmake or configure script in function 'cvDestroyAllWindows'\n",
     "output_type": "error",
     "traceback": [
      "\u001b[1;31m---------------------------------------------------------------------------\u001b[0m",
      "\u001b[1;31merror\u001b[0m                                     Traceback (most recent call last)",
      "\u001b[1;32m~\\AppData\\Local\\Temp/ipykernel_10044/1153201393.py\u001b[0m in \u001b[0;36m<module>\u001b[1;34m\u001b[0m\n\u001b[0;32m     13\u001b[0m \u001b[0mcapture\u001b[0m\u001b[1;33m.\u001b[0m\u001b[0mrelease\u001b[0m\u001b[1;33m(\u001b[0m\u001b[1;33m)\u001b[0m\u001b[1;33m\u001b[0m\u001b[1;33m\u001b[0m\u001b[0m\n\u001b[0;32m     14\u001b[0m \u001b[0mout\u001b[0m\u001b[1;33m.\u001b[0m\u001b[0mrelease\u001b[0m\u001b[1;33m(\u001b[0m\u001b[1;33m)\u001b[0m\u001b[1;33m\u001b[0m\u001b[1;33m\u001b[0m\u001b[0m\n\u001b[1;32m---> 15\u001b[1;33m \u001b[0mcv2\u001b[0m\u001b[1;33m.\u001b[0m\u001b[0mdestroyAllWindows\u001b[0m\u001b[1;33m(\u001b[0m\u001b[1;33m)\u001b[0m\u001b[1;33m\u001b[0m\u001b[1;33m\u001b[0m\u001b[0m\n\u001b[0m",
      "\u001b[1;31merror\u001b[0m: OpenCV(4.10.0) D:\\a\\opencv-python\\opencv-python\\opencv\\modules\\highgui\\src\\window.cpp:1295: error: (-2:Unspecified error) The function is not implemented. Rebuild the library with Windows, GTK+ 2.x or Cocoa support. If you are on Ubuntu or Debian, install libgtk2.0-dev and pkg-config, then re-run cmake or configure script in function 'cvDestroyAllWindows'\n"
     ]
    }
   ],
   "source": [
    "out = cv2.VideoWriter(\"ReverseVideo.mp4\", fourcc, int(fps), (int(frame_width), int(frame_height)))\n",
    "\n",
    "while capture.isOpened() and frame_index >=0:\n",
    "    capture.set(cv2.CAP_PROP_POS_FRAMES, frame_index)\n",
    "    ret, frame = capture.read()\n",
    "    if ret is True:\n",
    "        #cv2.imshow('Original Frame', frame)\n",
    "        out.write(frame)\n",
    "        frame_index-=1\n",
    "    else:\n",
    "        break\n",
    "        \n",
    "capture.release()\n",
    "out.release()\n",
    "cv2.destroyAllWindows()\n"
   ]
  },
  {
   "cell_type": "code",
   "execution_count": null,
   "id": "ebb6ebb1-8b20-4d40-bf5f-5037d3c0c6e4",
   "metadata": {},
   "outputs": [],
   "source": []
  }
 ],
 "metadata": {
  "kernelspec": {
   "display_name": "Python 3 (ipykernel)",
   "language": "python",
   "name": "python3"
  },
  "language_info": {
   "codemirror_mode": {
    "name": "ipython",
    "version": 3
   },
   "file_extension": ".py",
   "mimetype": "text/x-python",
   "name": "python",
   "nbconvert_exporter": "python",
   "pygments_lexer": "ipython3",
   "version": "3.9.7"
  }
 },
 "nbformat": 4,
 "nbformat_minor": 5
}
